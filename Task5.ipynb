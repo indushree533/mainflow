{
 "cells": [
  {
   "cell_type": "code",
   "execution_count": 1,
   "id": "b956ad47-92c2-4d67-a899-0c6e2dd21890",
   "metadata": {},
   "outputs": [
    {
     "name": "stdout",
     "output_type": "stream",
     "text": [
      "['abc', 'acb', 'bac', 'bca', 'cab', 'cba']\n"
     ]
    }
   ],
   "source": [
    "#Task 33: Find All Permutations of a String\n",
    "from itertools import permutations\n",
    "def find_permutations(s):\n",
    "    return [''.join(p) for p in permutations(s)]\n",
    "\n",
    "# Example\n",
    "print(find_permutations(\"abc\"))\n",
    "    "
   ]
  },
  {
   "cell_type": "code",
   "execution_count": 5,
   "id": "4c3d7aa3-48ed-47e4-90ad-3be1dade50ce",
   "metadata": {},
   "outputs": [
    {
     "name": "stdout",
     "output_type": "stream",
     "text": [
      "55\n"
     ]
    }
   ],
   "source": [
    "#Task 34: N-th Fibonacci Number (Dynamic Programming)\n",
    "def fibonacci(n):\n",
    "    fib = [0, 1]  # Base Cases\n",
    "    for i in range(2, n + 1):\n",
    "        fib.append(fib[i - 1] + fib[i - 2])\n",
    "    return fib[n]\n",
    "# Example\n",
    "print(fibonacci(10))\n"
   ]
  },
  {
   "cell_type": "code",
   "execution_count": 9,
   "id": "1c529063-9dcb-4042-afc3-cc90b569790b",
   "metadata": {},
   "outputs": [
    {
     "name": "stdout",
     "output_type": "stream",
     "text": [
      "[1, 2, 5, 6, 7]\n"
     ]
    }
   ],
   "source": [
    "#Task 35: Find Duplicates in a List\n",
    "from collections import Counter\n",
    "\n",
    "def find_duplicates(nums):\n",
    "    counts = Counter(nums)\n",
    "    return [num for num, count in counts.items() if count > 1]\n",
    "\n",
    "# Example\n",
    "print(find_duplicates([1, 2, 3, 2, 4, 1, 5, 6, 5, 7, 6, 8, 9, 7, 10]))"
   ]
  },
  {
   "cell_type": "code",
   "execution_count": 11,
   "id": "07a1f4da-f6e1-41a3-ab44-e1c86bad64db",
   "metadata": {},
   "outputs": [
    {
     "name": "stdout",
     "output_type": "stream",
     "text": [
      "4\n"
     ]
    }
   ],
   "source": [
    "#Task 36: Longest Increasing Subsequence(LIS)\n",
    "def length_of_LIS(nums):\n",
    "    if not nums:\n",
    "        return 0 \n",
    "    dp = [1] * len(nums)\n",
    "    for i in range(1, len(nums)):\n",
    "        for j in range(i):\n",
    "            if nums[i] > nums[j]:\n",
    "                dp[i] = max(dp[i], dp[j] + 1)\n",
    "\n",
    "    return max(dp)\n",
    "\n",
    "# Example\n",
    "print(length_of_LIS([10, 9, 2, 5, 3, 7, 101, 18]))"
   ]
  },
  {
   "cell_type": "code",
   "execution_count": 25,
   "id": "e4086325-e2f2-47e3-9109-9314d671be8b",
   "metadata": {},
   "outputs": [
    {
     "name": "stdout",
     "output_type": "stream",
     "text": [
      "[50, 30, 23]\n"
     ]
    }
   ],
   "source": [
    "#Task 37: Find K Largest Elements\n",
    "import heapq\n",
    "\n",
    "def k_largest_elements(nums, k):\n",
    "    return heapq.nlargest(k, nums)\n",
    "\n",
    "# Example\n",
    "print(k_largest_elements([1, 23, 12, 9, 30, 2, 50], 3))"
   ]
  },
  {
   "cell_type": "code",
   "execution_count": 29,
   "id": "829918db-1995-4b85-a622-854a586ea303",
   "metadata": {},
   "outputs": [
    {
     "name": "stdout",
     "output_type": "stream",
     "text": [
      "[7, 4, 1]\n",
      "[8, 5, 2]\n",
      "[9, 6, 3]\n"
     ]
    }
   ],
   "source": [
    "#Task 38: Rotate Matrix\n",
    "def rotate_matrix(matrix):\n",
    "    return [list(row) for row in zip(*matrix[::-1])]\n",
    "\n",
    "# Example\n",
    "matrix = [[1, 2, 3], [4, 5, 6], [7, 8, 9]]\n",
    "rotated = rotate_matrix(matrix)\n",
    "for row in rotated:\n",
    "    print(row)"
   ]
  },
  {
   "cell_type": "code",
   "execution_count": 35,
   "id": "ef03de2c-1b3a-4cec-a2ed-2e507efc8f98",
   "metadata": {},
   "outputs": [
    {
     "name": "stdout",
     "output_type": "stream",
     "text": [
      "True\n"
     ]
    }
   ],
   "source": [
    "#Task 39: Sudoku Validator\n",
    "def is_valid_sudoku(board):\n",
    "    def is_valid_block(block):\n",
    "        block = [i for i in block if i != \".\"]\n",
    "        return len(block) == len(set(block))\n",
    "\n",
    "    for i in range(9):\n",
    "        if not is_valid_block([board[i][j] for j in range(9)]) or not is_valid_block([board[j][i] for j in range(9)]):\n",
    "            return False\n",
    "\n",
    "    for i in range(0, 9, 3):\n",
    "        for j in range(0, 9, 3):\n",
    "            if not is_valid_block([board[x][y] for x in range(i, i + 3)\n",
    "                                               for y in range(j, j + 3)]):\n",
    "                return False\n",
    "    return True\n",
    "\n",
    "# Example\n",
    "sudoku_board = [\n",
    "    [\"5\",\"3\",\".\",\".\",\"7\",\".\",\".\",\".\",\".\"],\n",
    "    [\"6\",\".\",\".\",\"1\",\"9\",\"5\",\".\",\".\",\".\"],\n",
    "    [\".\",\"9\",\"8\",\".\",\".\",\".\",\".\",\"6\",\".\"],\n",
    "    [\"8\",\".\",\".\",\".\",\"6\",\".\",\".\",\".\",\"3\"],\n",
    "    [\"4\",\".\",\".\",\"8\",\".\",\"3\",\".\",\".\",\"1\"],\n",
    "    [\"7\",\".\",\".\",\".\",\"2\",\".\",\".\",\".\",\"6\"],\n",
    "    [\".\",\"6\",\".\",\".\",\".\",\".\",\"2\",\"8\",\".\"],\n",
    "    [\".\",\".\",\".\",\"4\",\"1\",\"9\",\".\",\".\",\"5\"],\n",
    "    [\".\",\".\",\".\",\".\",\"8\",\".\",\".\",\"7\",\"9\"]\n",
    "]\n",
    "print(is_valid_sudoku(sudoku_board))\n"
   ]
  },
  {
   "cell_type": "code",
   "execution_count": 3,
   "id": "e61f6e7a-7929-4a30-8fd9-56b432c9b914",
   "metadata": {},
   "outputs": [
    {
     "name": "stdout",
     "output_type": "stream",
     "text": [
      "Stock Prices: {'AAPL': 150, 'GOOG': 2800, 'TSLA': 700}\n",
      "Bought 10 shares of AAPL for $1500\n",
      "Stock Prices: {'AAPL': 150, 'GOOG': 2804, 'TSLA': 700}\n",
      "Sold 5 shares of AAPL for $750\n"
     ]
    }
   ],
   "source": [
    "# Virtual Stock Market Simulator\n",
    "import random\n",
    "\n",
    "class StockMarketSimulator:\n",
    "    def __init__(self):\n",
    "       self.stocks = {\"AAPL\": 150, \"GOOG\": 2800, \"TSLA\": 700}\n",
    "       self.portfolio = {}\n",
    "        \n",
    "    def update_prices(self):\n",
    "        for stock in self.stocks:\n",
    "            self.stocks[stock] += random.randint(-5, 5)\n",
    "\n",
    "    def buy_stock(self, stock, quantity):\n",
    "        if stock in self.stocks:\n",
    "            cost = self.stocks[stock] * quantity\n",
    "            self.portfolio[stock] = self.portfolio.get(stock, 0) + quantity\n",
    "            print(f\"Bought {quantity} shares of {stock} for ${cost}\")\n",
    "\n",
    "    def sell_stock(self, stock, quantity):\n",
    "        if stock in self.portfolio and self.portfolio[stock] >= quantity:\n",
    "            revenue = self.stocks[stock] * quantity\n",
    "            self.portfolio[stock] -= quantity\n",
    "            print(f\"Sold {quantity} shares of {stock} for ${revenue}\")\n",
    "\n",
    "    def display_market(self):\n",
    "        print(\"Stock Prices:\", self.stocks)\n",
    "\n",
    "# Example\n",
    "market  = StockMarketSimulator()\n",
    "market.display_market()\n",
    "market.buy_stock(\"AAPL\", 10)\n",
    "market.update_prices()\n",
    "market.display_market()\n",
    "market.sell_stock(\"AAPL\", 5)\n",
    "            \n",
    "    \n",
    "      "
   ]
  }
 ],
 "metadata": {
  "kernelspec": {
   "display_name": "Python [conda env:base] *",
   "language": "python",
   "name": "conda-base-py"
  },
  "language_info": {
   "codemirror_mode": {
    "name": "ipython",
    "version": 3
   },
   "file_extension": ".py",
   "mimetype": "text/x-python",
   "name": "python",
   "nbconvert_exporter": "python",
   "pygments_lexer": "ipython3",
   "version": "3.12.7"
  }
 },
 "nbformat": 4,
 "nbformat_minor": 5
}
