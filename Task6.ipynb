{
 "cells": [
  {
   "cell_type": "code",
   "execution_count": 9,
   "id": "e497bf24-13a7-41e5-aeeb-5aa31888e939",
   "metadata": {},
   "outputs": [
    {
     "name": "stdout",
     "output_type": "stream",
     "text": [
      "True\n"
     ]
    }
   ],
   "source": [
    "#Task 39: Sudoku Validator\n",
    "def isValidSudoku(board):\n",
    "    rows = [set() for _ in range(9)]\n",
    "    cols = [set() for _ in range(9)]\n",
    "    boxes = [set() for _ in range(9)] \n",
    "\n",
    "    for r in range(9):\n",
    "        for c in range(9):\n",
    "            val = board[r][c]\n",
    "            if val == '.':\n",
    "                continue\n",
    "            if val in rows[r]:\n",
    "                return False\n",
    "            rows[r].add(val)\n",
    "            if val in cols[c]:\n",
    "                return False\n",
    "            cols[c].add(val)\n",
    "            box_index = (r // 3) * 3 + (c // 3)  \n",
    "            if val in boxes[box_index]:\n",
    "                return False\n",
    "            boxes[box_index].add(val)\n",
    "    return True\n",
    "\n",
    "# Example \n",
    "sudoku_board = [\n",
    "    [\"5\",\"3\",\".\",\".\",\"7\",\".\",\".\",\".\",\".\"],\n",
    "    [\"6\",\".\",\".\",\"1\",\"9\",\"5\",\".\",\".\",\".\"],\n",
    "    [\".\",\"9\",\"8\",\".\",\".\",\".\",\".\",\"6\",\".\"],\n",
    "    [\"8\",\".\",\".\",\".\",\"6\",\".\",\".\",\".\",\"3\"],\n",
    "    [\"4\",\".\",\".\",\"8\",\".\",\"3\",\".\",\".\",\"1\"],\n",
    "    [\"7\",\".\",\".\",\".\",\"2\",\".\",\".\",\".\",\"6\"],\n",
    "    [\".\",\"6\",\".\",\".\",\".\",\".\",\"2\",\"8\",\".\"],\n",
    "    [\".\",\".\",\".\",\"4\",\"1\",\"9\",\".\",\".\",\"5\"],\n",
    "    [\".\",\".\",\".\",\".\",\"8\",\".\",\".\",\"7\",\"9\"]\n",
    "]\n",
    "print(isValidSudoku(sudoku_board))\n",
    "\n"
   ]
  },
  {
   "cell_type": "code",
   "execution_count": 11,
   "id": "e8cefbc8-e2c7-4a1a-9228-4facfcfe2726",
   "metadata": {},
   "outputs": [
    {
     "name": "stdout",
     "output_type": "stream",
     "text": [
      "{'this': 2, 'is': 2, 'a': 1, 'sample': 1, 'text.': 1, 'text': 1, 'for': 1, 'counting': 1, 'words.': 1}\n"
     ]
    }
   ],
   "source": [
    "#Task 40: Word Frequency in Text\n",
    "from collections import Counter\n",
    "\n",
    "def word_frequency(text):\n",
    "    words = text.lower().split()\n",
    "    return dict(Counter(words))\n",
    "\n",
    "# Example\n",
    "text = \"This is a sample text. This text is for counting words.\"\n",
    "print(word_frequency(text))"
   ]
  },
  {
   "cell_type": "code",
   "execution_count": 17,
   "id": "c91b93a1-2fbc-4ecd-acdf-15a24d397fb7",
   "metadata": {},
   "outputs": [
    {
     "name": "stdout",
     "output_type": "stream",
     "text": [
      "7\n"
     ]
    }
   ],
   "source": [
    "#Task 41: Knapsack Problem\n",
    "def knapsack(weights, values, capacity):\n",
    "    n = len(weights)\n",
    "    dp = [[0 for _ in range(capacity + 1)] for _ in range(n + 1)]\n",
    "\n",
    "    for i in range(1, n + 1):\n",
    "        for w in range(1, capacity + 1):\n",
    "            if weights[i - 1] <= w:\n",
    "                dp[i][w] = max(values[i - 1] + dp[i - 1][w - weights[i - 1]], dp[i - 1][w])\n",
    "            else:\n",
    "                dp[i][w] = dp[i - 1][w]\n",
    "    return dp[n][capacity]\n",
    "\n",
    "# Example\n",
    "weights = [2, 3, 4, 5]\n",
    "values = [3, 4, 5, 6]\n",
    "capacity = 5\n",
    "print(knapsack(weights, values, capacity))"
   ]
  },
  {
   "cell_type": "code",
   "execution_count": 19,
   "id": "f8aa62ef-f001-449c-8180-7985317a1f26",
   "metadata": {},
   "outputs": [
    {
     "name": "stdout",
     "output_type": "stream",
     "text": [
      "[[1, 6], [8, 10], [15, 10]]\n"
     ]
    }
   ],
   "source": [
    "#Task 42: Merge Intervals\n",
    "def merge_intervals(intervals):\n",
    "    intervals.sort()\n",
    "    merged = [intervals[0]]\n",
    "\n",
    "    for start, end in intervals[1:]:\n",
    "        if start <= merged[-1][1]:\n",
    "            merged[-1][1] = max(merged[-1][1], end)\n",
    "        else:\n",
    "            merged.append([start, end])\n",
    "    return merged\n",
    "\n",
    "# Example\n",
    "intervals = [[1, 3], [2, 6], [8, 10], [15, 10]]\n",
    "print(merge_intervals(intervals))"
   ]
  },
  {
   "cell_type": "code",
   "execution_count": 25,
   "id": "c48f65d7-cee5-481d-b80b-8d655cfbabb1",
   "metadata": {},
   "outputs": [
    {
     "name": "stdout",
     "output_type": "stream",
     "text": [
      "2\n"
     ]
    }
   ],
   "source": [
    "#Task 43: Find the Median of Two Sorted Array\n",
    "import statistics\n",
    "\n",
    "def find_median(arr1, arr2):\n",
    "    merged = sorted(arr1 + arr2)\n",
    "    return statistics.median(merged)\n",
    "\n",
    "# Example\n",
    "arr1 = [1, 3]\n",
    "arr2 = [2]\n",
    "print(find_median(arr1, arr2))"
   ]
  },
  {
   "cell_type": "code",
   "execution_count": 34,
   "id": "14fec115-8bfc-4aa4-b905-4cc715f99201",
   "metadata": {},
   "outputs": [
    {
     "name": "stdout",
     "output_type": "stream",
     "text": [
      "6\n"
     ]
    }
   ],
   "source": [
    "#Task 44: Maximal Rectangle in Binary Matrix\n",
    "\n",
    "def maximal_rectangle(matrix):\n",
    "    if not matrix:\n",
    "        return 0\n",
    "    n = len(matrix[0])\n",
    "    heights = [0] * n\n",
    "    max_area = 0\n",
    "    \n",
    "    for row in matrix:\n",
    "        for i in range(n):\n",
    "            heights[i] = heights[i] + 1 if row[i] == '1' else 0\n",
    "        \n",
    "        stack = []\n",
    "        for i in range(n+1):\n",
    "            curr = heights[i] if i < n else 0\n",
    "            while stack and curr < heights[stack[-1]]:\n",
    "                h = heights[stack.pop()]\n",
    "                w = i if not stack else i - stack[-1] - 1\n",
    "                max_area = max(max_area, h*w)\n",
    "            stack.append(i)\n",
    "    \n",
    "    return max_area\n",
    "\n",
    "# Example\n",
    "matrix = [\n",
    "    [\"1\",\"0\",\"1\",\"0\",\"0\"],\n",
    "    [\"1\",\"0\",\"1\",\"1\",\"1\"],\n",
    "    [\"1\",\"1\",\"1\",\"1\",\"1\"],\n",
    "    [\"1\",\"0\",\"0\",\"1\",\"0\"]\n",
    "]\n",
    "\n",
    "print(maximal_rectangle(matrix))\n",
    "\n",
    "    \n"
   ]
  },
  {
   "cell_type": "code",
   "execution_count": 37,
   "id": "9f11384d-422e-4b25-a27c-61d238902508",
   "metadata": {},
   "outputs": [
    {
     "name": "stdout",
     "output_type": "stream",
     "text": [
      "6\n"
     ]
    }
   ],
   "source": [
    "#Task 45 Largest Sum Contiguous Subarray\n",
    "def max_subarray_sum(nums):\n",
    "    max_sum = curr_sum = nums[0]\n",
    "    \n",
    "    for num in nums[1:]:\n",
    "        curr_sum = max(num, curr_sum + num)\n",
    "        max_sum = max(max_sum, curr_sum)\n",
    "    \n",
    "    return max_sum\n",
    "\n",
    "# Example\n",
    "nums = [-2,1,-3,4,-1,2,1,-5,4]\n",
    "\n",
    "print(max_subarray_sum(nums))\n"
   ]
  },
  {
   "cell_type": "code",
   "execution_count": 40,
   "id": "0bc00181-5ec5-454c-853a-6225c0164fe2",
   "metadata": {},
   "outputs": [
    {
     "name": "stdout",
     "output_type": "stream",
     "text": [
      "5\n"
     ]
    }
   ],
   "source": [
    "#Task 46: World Ladder Problem\n",
    "from collections import deque\n",
    "\n",
    "def word_ladder(beginWord, endWord, wordList):\n",
    "    word_set = set(wordList)\n",
    "    queue = deque([(beginWord, 1)])\n",
    "    \n",
    "    while queue:\n",
    "        word, steps = queue.popleft()\n",
    "        if word == endWord:\n",
    "            return steps\n",
    "        \n",
    "        for i in range(len(word)):\n",
    "            for c in 'abcdefghijklmnopqrstuvwxyz':\n",
    "                next_word = word[:i] + c + word[i+1:]\n",
    "                if next_word in word_set:\n",
    "                    word_set.remove(next_word)\n",
    "                    queue.append((next_word, steps+1))\n",
    "    \n",
    "    return 0\n",
    "\n",
    "# Example\n",
    "beginWord = \"hit\"\n",
    "endWord = \"cog\"\n",
    "wordList = [\"hot\",\"dot\",\"dog\",\"lot\",\"log\",\"cog\"]\n",
    "\n",
    "print(word_ladder(beginWord, endWord, wordList))\n"
   ]
  },
  {
   "cell_type": "code",
   "execution_count": 45,
   "id": "3d7762f3-3ac5-4bcd-8abc-179842826410",
   "metadata": {},
   "outputs": [
    {
     "name": "stdout",
     "output_type": "stream",
     "text": [
      "Welcome to the Command-Line RPG Game!\n"
     ]
    },
    {
     "name": "stdin",
     "output_type": "stream",
     "text": [
      "Do you want to load a saved game? (yes/no):  yes\n"
     ]
    },
    {
     "name": "stdout",
     "output_type": "stream",
     "text": [
      "No saved game found. Starting a new game.\n"
     ]
    },
    {
     "name": "stdin",
     "output_type": "stream",
     "text": [
      "Enter your character's name:  robin\n"
     ]
    },
    {
     "name": "stdout",
     "output_type": "stream",
     "text": [
      "\n",
      "--- Main Menu ---\n",
      "1. Explore\n",
      "2. Move\n",
      "3. Save Game\n",
      "4. Load Game\n",
      "5. View Stats\n",
      "6. Quit\n"
     ]
    },
    {
     "name": "stdin",
     "output_type": "stream",
     "text": [
      "Choose an option:  2\n"
     ]
    },
    {
     "name": "stdout",
     "output_type": "stream",
     "text": [
      "\n",
      "Locations:\n",
      "1. Town\n",
      "2. Forest\n",
      "3. Cave\n",
      "4. Lake\n"
     ]
    },
    {
     "name": "stdin",
     "output_type": "stream",
     "text": [
      "Where do you want to go? (Enter number):  4\n"
     ]
    },
    {
     "name": "stdout",
     "output_type": "stream",
     "text": [
      "Moved to Lake\n",
      "\n",
      "--- Main Menu ---\n",
      "1. Explore\n",
      "2. Move\n",
      "3. Save Game\n",
      "4. Load Game\n",
      "5. View Stats\n",
      "6. Quit\n"
     ]
    },
    {
     "name": "stdin",
     "output_type": "stream",
     "text": [
      "Choose an option:  6\n"
     ]
    },
    {
     "name": "stdout",
     "output_type": "stream",
     "text": [
      "Quitting game...\n"
     ]
    }
   ],
   "source": [
    "# Command-Line RPG Game\n",
    "import random\n",
    "import json\n",
    "\n",
    "class Player:\n",
    "    def __init__(self, name):\n",
    "        self.name = name\n",
    "        self.hp = 100\n",
    "        self.attack = 10\n",
    "        self.defense = 5\n",
    "        self.inventory = []\n",
    "    \n",
    "    def attack_enemy(self, enemy):\n",
    "        damage = max(0, self.attack - enemy.defense)\n",
    "        enemy.hp -= damage\n",
    "        print(f\"{self.name} attacks {enemy.name} for {damage} damage!\")\n",
    "\n",
    "    def is_alive(self):\n",
    "        return self.hp > 0\n",
    "\n",
    "    def save(self):\n",
    "        data = {\n",
    "            'name': self.name,\n",
    "            'hp': self.hp,\n",
    "            'attack': self.attack,\n",
    "            'defense': self.defense,\n",
    "            'inventory': self.inventory\n",
    "        }\n",
    "        with open('save_game.json', 'w') as f:\n",
    "            json.dump(data, f)\n",
    "        print(\"Game Saved!\")\n",
    "\n",
    "    @staticmethod\n",
    "    def load():\n",
    "        try:\n",
    "            with open('save_game.json', 'r') as f:\n",
    "                data = json.load(f)\n",
    "                player = Player(data['name'])\n",
    "                player.hp = data['hp']\n",
    "                player.attack = data['attack']\n",
    "                player.defense = data['defense']\n",
    "                player.inventory = data['inventory']\n",
    "                print(\"Game Loaded!\")\n",
    "                return player\n",
    "        except FileNotFoundError:\n",
    "            print(\"No saved game found. Starting a new game.\")\n",
    "            return None\n",
    "\n",
    "class Enemy:\n",
    "    def __init__(self, name, hp, attack, defense):\n",
    "        self.name = name\n",
    "        self.hp = hp\n",
    "        self.attack = attack\n",
    "        self.defense = defense\n",
    "\n",
    "    def attack_player(self, player):\n",
    "        damage = max(0, self.attack - player.defense)\n",
    "        player.hp -= damage\n",
    "        print(f\"{self.name} attacks {player.name} for {damage} damage!\")\n",
    "\n",
    "    def is_alive(self):\n",
    "        return self.hp > 0\n",
    "\n",
    "class Game:\n",
    "    locations = [\"Town\", \"Forest\", \"Cave\", \"Lake\"]\n",
    "\n",
    "    def __init__(self, player):\n",
    "        self.player = player\n",
    "        self.current_location = \"Town\"\n",
    "\n",
    "    def explore(self):\n",
    "        print(f\"\\nExploring {self.current_location}...\")\n",
    "        encounter = random.choice([\"enemy\", \"item\", \"nothing\"])\n",
    "        \n",
    "        if encounter == \"enemy\":\n",
    "            enemy = Enemy(\"Goblin\", 30, 8, 3)\n",
    "            print(f\"You encountered a {enemy.name}!\")\n",
    "            self.battle(enemy)\n",
    "        elif encounter == \"item\":\n",
    "            item = random.choice([\"Sword\", \"Shield\", \"Potion\"])\n",
    "            self.player.inventory.append(item)\n",
    "            print(f\"You found a {item}!\")\n",
    "        else:\n",
    "            print(\"Nothing happened...\")\n",
    "\n",
    "    def battle(self, enemy):\n",
    "        while enemy.is_alive() and self.player.is_alive():\n",
    "            action = input(\"Choose action (attack/run): \").lower()\n",
    "            if action == \"attack\":\n",
    "                self.player.attack_enemy(enemy)\n",
    "                if enemy.is_alive():\n",
    "                    enemy.attack_player(self.player)\n",
    "            elif action == \"run\":\n",
    "                print(\"You ran away!\")\n",
    "                break\n",
    "            else:\n",
    "                print(\"Invalid action!\")\n",
    "        if not enemy.is_alive():\n",
    "            print(f\"You defeated the {enemy.name}!\")\n",
    "        if not self.player.is_alive():\n",
    "            print(\"You have been defeated... Game Over!\")\n",
    "            exit()\n",
    "\n",
    "    def move(self):\n",
    "        print(\"\\nLocations:\")\n",
    "        for idx, loc in enumerate(self.locations):\n",
    "            print(f\"{idx + 1}. {loc}\")\n",
    "        choice = int(input(\"Where do you want to go? (Enter number): \"))\n",
    "        if 1 <= choice <= len(self.locations):\n",
    "            self.current_location = self.locations[choice-1]\n",
    "            print(f\"Moved to {self.current_location}\")\n",
    "        else:\n",
    "            print(\"Invalid choice!\")\n",
    "\n",
    "    def play(self):\n",
    "        while self.player.is_alive():\n",
    "            print(\"\\n--- Main Menu ---\")\n",
    "            print(\"1. Explore\")\n",
    "            print(\"2. Move\")\n",
    "            print(\"3. Save Game\")\n",
    "            print(\"4. Load Game\")\n",
    "            print(\"5. View Stats\")\n",
    "            print(\"6. Quit\")\n",
    "            choice = input(\"Choose an option: \")\n",
    "            if choice == \"1\":\n",
    "                self.explore()\n",
    "            elif choice == \"2\":\n",
    "                self.move()\n",
    "            elif choice == \"3\":\n",
    "                self.player.save()\n",
    "            elif choice == \"4\":\n",
    "                loaded = Player.load()\n",
    "                if loaded:\n",
    "                    self.player = loaded\n",
    "            elif choice == \"5\":\n",
    "                self.view_stats()\n",
    "            elif choice == \"6\":\n",
    "                print(\"Quitting game...\")\n",
    "                break\n",
    "            else:\n",
    "                print(\"Invalid choice!\")\n",
    "\n",
    "    def view_stats(self):\n",
    "        print(f\"\\nName: {self.player.name}\")\n",
    "        print(f\"HP: {self.player.hp}\")\n",
    "        print(f\"Attack: {self.player.attack}\")\n",
    "        print(f\"Defense: {self.player.defense}\")\n",
    "        print(f\"Inventory: {self.player.inventory}\")\n",
    "\n",
    "# Starting the Game\n",
    "if __name__ == \"__main__\":\n",
    "    print(\"Welcome to the Command-Line RPG Game!\")\n",
    "    choice = input(\"Do you want to load a saved game? (yes/no): \").lower()\n",
    "    if choice == \"yes\":\n",
    "        player = Player.load()\n",
    "        if player is None:\n",
    "            name = input(\"Enter your character's name: \")\n",
    "            player = Player(name)\n",
    "    else:\n",
    "        name = input(\"Enter your character's name: \")\n",
    "        player = Player(name)\n",
    "\n",
    "    game = Game(player)\n",
    "    game.play()\n"
   ]
  },
  {
   "cell_type": "code",
   "execution_count": null,
   "id": "01dee71d-cf62-49ee-8423-ebd7388f66d7",
   "metadata": {},
   "outputs": [],
   "source": []
  }
 ],
 "metadata": {
  "kernelspec": {
   "display_name": "Python [conda env:base] *",
   "language": "python",
   "name": "conda-base-py"
  },
  "language_info": {
   "codemirror_mode": {
    "name": "ipython",
    "version": 3
   },
   "file_extension": ".py",
   "mimetype": "text/x-python",
   "name": "python",
   "nbconvert_exporter": "python",
   "pygments_lexer": "ipython3",
   "version": "3.12.7"
  }
 },
 "nbformat": 4,
 "nbformat_minor": 5
}
