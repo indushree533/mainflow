{
 "cells": [
  {
   "cell_type": "code",
   "execution_count": 3,
   "id": "ae70b5c1-c35c-49a2-93e6-d13c59941cdb",
   "metadata": {},
   "outputs": [
    {
     "name": "stdout",
     "output_type": "stream",
     "text": [
      "Enter a number: 6\n"
     ]
    },
    {
     "name": "stdout",
     "output_type": "stream",
     "text": [
      "6 x 1 = 6\n",
      "6 x 2 = 12\n",
      "6 x 3 = 18\n",
      "6 x 4 = 24\n",
      "6 x 5 = 30\n",
      "6 x 6 = 36\n",
      "6 x 7 = 42\n",
      "6 x 8 = 48\n",
      "6 x 9 = 54\n",
      "6 x 10 = 60\n"
     ]
    }
   ],
   "source": [
    "#Task 17: Table of Number\n",
    "def multiplication_table(n):\n",
    "    for i in range(1, 11):\n",
    "        print(f\"{n} x {i} = {n * i}\")\n",
    "        \n",
    "# Example \n",
    "num = int(input(\"Enter a number:\"))\n",
    "multiplication_table(num)"
   ]
  },
  {
   "cell_type": "code",
   "execution_count": 5,
   "id": "5a07d7e9-374c-4b21-807e-a603c316f149",
   "metadata": {},
   "outputs": [
    {
     "name": "stdout",
     "output_type": "stream",
     "text": [
      "After swapping: a = 7, b = 3\n"
     ]
    }
   ],
   "source": [
    "#Task 18: Swap two Numbers\n",
    "def swap_numbers(a, b):\n",
    "    a, b = b, a\n",
    "    print(f\"After swapping: a = {a}, b = {b}\")\n",
    "    \n",
    "# Example\n",
    "a, b = 3, 7\n",
    "swap_numbers(a, b)"
   ]
  },
  {
   "cell_type": "code",
   "execution_count": 7,
   "id": "ec01cbbf-a4d7-47de-aa00-98baf635b327",
   "metadata": {},
   "outputs": [
    {
     "name": "stdout",
     "output_type": "stream",
     "text": [
      "Enter the main string:  Hello Python\n",
      "Enter the substring:  Hello\n"
     ]
    },
    {
     "name": "stdout",
     "output_type": "stream",
     "text": [
      "True - It is a substring\n"
     ]
    }
   ],
   "source": [
    "#Task 19: Check Substring\n",
    "def check_substring(main_string, sub_string):\n",
    "    return sub_string in main_string\n",
    "\n",
    "# Example\n",
    "main_str = input(\"Enter the main string: \")\n",
    "sub_str = input(\"Enter the substring: \")\n",
    "\n",
    "if check_substring(main_str, sub_str):\n",
    "    print(\"True - It is a substring\")\n",
    "else:\n",
    "    print(\"False - Not a substring\")"
   ]
  },
  {
   "cell_type": "code",
   "execution_count": 9,
   "id": "9191831e-eb37-4bae-8bc1-e205fcf4badb",
   "metadata": {},
   "outputs": [
    {
     "name": "stdout",
     "output_type": "stream",
     "text": [
      "Enter a decimal number:  10\n"
     ]
    },
    {
     "name": "stdout",
     "output_type": "stream",
     "text": [
      "Binary equivalent: 1010\n"
     ]
    }
   ],
   "source": [
    "#Task 20: Decimal to Binary\n",
    "def decimal_to_binary(n):\n",
    "    return bin(n)[2:]\n",
    "\n",
    "# Example\n",
    "num = int(input(\"Enter a decimal number: \"))\n",
    "print(f\"Binary equivalent: {decimal_to_binary(num)}\")"
   ]
  },
  {
   "cell_type": "code",
   "execution_count": 15,
   "id": "ce478dd0-9b88-4260-9ef0-d28b1d24684f",
   "metadata": {},
   "outputs": [
    {
     "name": "stdout",
     "output_type": "stream",
     "text": [
      "[6, 8]\n",
      "[10, 12]\n"
     ]
    }
   ],
   "source": [
    "#Task 21: Matrix Addition\n",
    "def add_matrices(A, B):\n",
    "    rows, cols = len(A), len(A[0])\n",
    "    result = [[A[i][j] + B[i][j] for j in range(cols)] for i in range(rows)]\n",
    "    return result\n",
    "\n",
    "# Example\n",
    "A = [[1, 2], [3, 4]]\n",
    "B = [[5, 6], [7, 8]]\n",
    "\n",
    "result = add_matrices(A, B)\n",
    "for row in result:\n",
    "    print(row)"
   ]
  },
  {
   "cell_type": "code",
   "execution_count": 17,
   "id": "5ccbd40d-7a7e-4e45-a5c2-2b8c8a696e5e",
   "metadata": {},
   "outputs": [
    {
     "name": "stdout",
     "output_type": "stream",
     "text": [
      "[19, 22]\n",
      "[43, 50]\n"
     ]
    }
   ],
   "source": [
    "#Task 22: Matrix Multiplication\n",
    "def multiply_matrices(A, B):\n",
    "    rows_A , cols_A = len(A), len(A[0])\n",
    "    rows_B, cols_B = len(B), len(B[0])\n",
    "    \n",
    "    if cols_A != rows_B:\n",
    "        return \"Matrix multiplication not possible\"\n",
    "    \n",
    "    result = [[sum(A[i][k] * B[k][j] for k in range(cols_A)) for j in range(cols_B)] for i in range(rows_A)]\n",
    "    return result\n",
    "\n",
    "# Example\n",
    "A = [[1, 2], [3, 4]]\n",
    "B = [[5, 6], [7, 8]]\n",
    "\n",
    "result = multiply_matrices(A, B)\n",
    "for row in result:\n",
    "    print(row)"
   ]
  },
  {
   "cell_type": "code",
   "execution_count": 19,
   "id": "bda56cd9-4499-428b-8334-55d4446e049a",
   "metadata": {},
   "outputs": [
    {
     "name": "stdout",
     "output_type": "stream",
     "text": [
      "Second Largest: 45\n"
     ]
    }
   ],
   "source": [
    "#Task 23: Find Second Largest\n",
    "def second_largest(lst):\n",
    "    unique_numbers = list(set(lst))\n",
    "    unique_numbers.sort()\n",
    "    return unique_numbers[-2] if len(unique_numbers) > 1 else \"No second largest number\"\n",
    "\n",
    "# Example\n",
    "numbers = [10, 20, 4, 45, 99, 99]\n",
    "print(\"Second Largest:\", second_largest(numbers))"
   ]
  },
  {
   "cell_type": "code",
   "execution_count": 21,
   "id": "cba0ad3a-d82a-495c-bcad-d45d252b42d6",
   "metadata": {},
   "outputs": [
    {
     "name": "stdout",
     "output_type": "stream",
     "text": [
      "Enter first word:  listen\n",
      "Enter second word:  silent\n"
     ]
    },
    {
     "name": "stdout",
     "output_type": "stream",
     "text": [
      "true - They are anagrams\n"
     ]
    }
   ],
   "source": [
    "#Task 24: Check Anagram\n",
    "def check_anagram(str1, str2):\n",
    "    return sorted(str1) == sorted(str2)\n",
    "\n",
    "#Example\n",
    "word1 = input(\"Enter first word: \")\n",
    "word2 = input(\"Enter second word: \")\n",
    "\n",
    "if check_anagram(word1, word2):\n",
    "    print(\"true - They are anagrams\")\n",
    "else:\n",
    "    print(\"False - Not anagrams\")\n",
    "    "
   ]
  },
  {
   "cell_type": "code",
   "execution_count": 37,
   "id": "c3a123a6-7c04-4075-8b1b-7fed58292de1",
   "metadata": {},
   "outputs": [
    {
     "name": "stdout",
     "output_type": "stream",
     "text": [
      "\n",
      "\n",
      "   |   |   \n",
      "---+---+---\n",
      "   |   |   \n",
      "---+---+---\n",
      "   |   |   \n",
      "\n",
      "\n"
     ]
    },
    {
     "name": "stdout",
     "output_type": "stream",
     "text": [
      "Your move (0-8):  0\n"
     ]
    },
    {
     "name": "stdout",
     "output_type": "stream",
     "text": [
      "AI's move:\n",
      "\n",
      "\n",
      " X |   |   \n",
      "---+---+---\n",
      "   | O |   \n",
      "---+---+---\n",
      "   |   |   \n",
      "\n",
      "\n"
     ]
    },
    {
     "name": "stdout",
     "output_type": "stream",
     "text": [
      "Your move (0-8):  4\n"
     ]
    },
    {
     "name": "stdout",
     "output_type": "stream",
     "text": [
      "Invalid move! Try again.\n",
      "\n",
      "\n",
      " X |   |   \n",
      "---+---+---\n",
      "   | O |   \n",
      "---+---+---\n",
      "   |   |   \n",
      "\n",
      "\n"
     ]
    },
    {
     "name": "stdout",
     "output_type": "stream",
     "text": [
      "Your move (0-8):  7\n"
     ]
    },
    {
     "name": "stdout",
     "output_type": "stream",
     "text": [
      "AI's move:\n",
      "\n",
      "\n",
      " X |   |   \n",
      "---+---+---\n",
      " O | O |   \n",
      "---+---+---\n",
      "   | X |   \n",
      "\n",
      "\n"
     ]
    },
    {
     "name": "stdout",
     "output_type": "stream",
     "text": [
      "Your move (0-8):  2\n"
     ]
    },
    {
     "name": "stdout",
     "output_type": "stream",
     "text": [
      "AI's move:\n",
      "\n",
      "\n",
      " X |   | X \n",
      "---+---+---\n",
      " O | O | O \n",
      "---+---+---\n",
      "   | X |   \n",
      "\n",
      "\n",
      "\n",
      "\n",
      " X |   | X \n",
      "---+---+---\n",
      " O | O | O \n",
      "---+---+---\n",
      "   | X |   \n",
      "\n",
      "\n",
      "The Winner is O!\n"
     ]
    }
   ],
   "source": [
    " # AI-Based Tic-Tac-Toe\n",
    "import math\n",
    "\n",
    "# Initialize board\n",
    "def initialize_board():\n",
    "    return [' '] * 9\n",
    "\n",
    "# Display the board\n",
    "def display_board(board):\n",
    "    print(\"\\n\")\n",
    "    print(f\" {board[0]} | {board[1]} | {board[2]} \")\n",
    "    print(\"---+---+---\")\n",
    "    print(f\" {board[3]} | {board[4]} | {board[5]} \")\n",
    "    print(\"---+---+---\")\n",
    "    print(f\" {board[6]} | {board[7]} | {board[8]} \")\n",
    "    print(\"\\n\")\n",
    "\n",
    "# Check for a winner\n",
    "def check_winner(board):\n",
    "    win_conditions = [(0, 1, 2), (3, 4, 5), (6, 7, 8),\n",
    "                      (0, 3, 6), (1, 4, 7), (2, 5, 8),\n",
    "                      (0, 4, 8), (2, 4, 6)]\n",
    "    for x, y, z in win_conditions:\n",
    "        if board[x] == board[y] == board[z] and board[x] != ' ':\n",
    "            return board[x]\n",
    "    return None\n",
    "\n",
    "# Check for draw\n",
    "def is_draw(board):\n",
    "    return ' ' not in board and check_winner(board) is None\n",
    "\n",
    "# Minimax Algorithm with Alpha-Beta Pruning\n",
    "def minimax(board, depth, is_maximizing, alpha, beta):\n",
    "    winner = check_winner(board)\n",
    "    if winner == 'O':  # AI wins\n",
    "        return 10 - depth\n",
    "    elif winner == 'X':  # Player wins\n",
    "        return depth - 10\n",
    "    elif is_draw(board):\n",
    "        return 0  \n",
    "\n",
    "    if is_maximizing:\n",
    "        max_eval = -math.inf\n",
    "        for i in range(9):\n",
    "            if board[i] == ' ':\n",
    "                board[i] = 'O'\n",
    "                eval = minimax(board, depth + 1, False, alpha, beta)\n",
    "                board[i] = ' '\n",
    "                max_eval = max(max_eval, eval)\n",
    "                alpha = max(alpha, eval)\n",
    "                if beta <= alpha:\n",
    "                    break\n",
    "        return max_eval\n",
    "    else:\n",
    "        min_eval = math.inf\n",
    "        for i in range(9):\n",
    "            if board[i] == ' ':\n",
    "                board[i] = 'X'\n",
    "                eval = minimax(board, depth + 1, True, alpha, beta)\n",
    "                board[i] = ' '\n",
    "                min_eval = min(min_eval, eval)\n",
    "                beta = min(beta, eval)\n",
    "                if beta <= alpha:\n",
    "                    break\n",
    "        return min_eval\n",
    "\n",
    "# AI's move\n",
    "def ai_move(board):\n",
    "    best_score = -math.inf\n",
    "    move = -1\n",
    "    for i in range(9):\n",
    "        if board[i] == ' ':\n",
    "            board[i] = 'O'\n",
    "            score = minimax(board, 0, False, -math.inf, math.inf)\n",
    "            board[i] = ' '\n",
    "            if score > best_score:\n",
    "                best_score = score\n",
    "                move = i\n",
    "    return move\n",
    "\n",
    "# Main Game Loop\n",
    "def play_game():\n",
    "    board = initialize_board()\n",
    "    while True:\n",
    "        display_board(board)\n",
    "        \n",
    "        if check_winner(board) or is_draw(board):\n",
    "            break\n",
    "        \n",
    "        try:\n",
    "            user_move = int(input(\"Your move (0-8): \"))\n",
    "            if board[user_move] == ' ':\n",
    "                board[user_move] = 'X'\n",
    "            else:\n",
    "                print(\"Invalid move! Try again.\")\n",
    "                continue\n",
    "        except (ValueError, IndexError):\n",
    "            print(\"Invalid input! Enter a number between 0-8.\")\n",
    "            continue\n",
    "        \n",
    "        if check_winner(board) or is_draw(board):\n",
    "            break\n",
    "        \n",
    "        print(\"AI's move:\")\n",
    "        ai_pos = ai_move(board)\n",
    "        board[ai_pos] = 'O'\n",
    "\n",
    "    display_board(board)\n",
    "    winner = check_winner(board)\n",
    "    if winner:\n",
    "        print(f\"The Winner is {winner}!\")\n",
    "    else:\n",
    "        print(\"It's a draw!\")\n",
    "\n",
    "# Run the game\n",
    "play_game()\n"
   ]
  },
  {
   "cell_type": "code",
   "execution_count": null,
   "id": "9f0bc33b-7b50-4410-b33b-888fe4e1953d",
   "metadata": {},
   "outputs": [],
   "source": []
  }
 ],
 "metadata": {
  "kernelspec": {
   "display_name": "Python [conda env:base] *",
   "language": "python",
   "name": "conda-base-py"
  },
  "language_info": {
   "codemirror_mode": {
    "name": "ipython",
    "version": 3
   },
   "file_extension": ".py",
   "mimetype": "text/x-python",
   "name": "python",
   "nbconvert_exporter": "python",
   "pygments_lexer": "ipython3",
   "version": "3.12.7"
  }
 },
 "nbformat": 4,
 "nbformat_minor": 5
}
