{
 "cells": [
  {
   "cell_type": "code",
   "execution_count": 5,
   "id": "b4957179-1b23-477c-9011-5da86e613718",
   "metadata": {},
   "outputs": [
    {
     "name": "stdout",
     "output_type": "stream",
     "text": [
      "Missing Number: 3\n"
     ]
    }
   ],
   "source": [
    "#Task 25: Find Missing Number \n",
    "def find_missing_number(arr):\n",
    "    n = len(arr) + 1\n",
    "    expected_sum = n * (n + 1) // 2\n",
    "    actual_sum = sum(arr)\n",
    "    return expected_sum - actual_sum\n",
    "\n",
    "# Example \n",
    "arr = [1,2,4,5,6]\n",
    "print(\"Missing Number:\", find_missing_number(arr))"
   ]
  },
  {
   "cell_type": "code",
   "execution_count": 9,
   "id": "897d48f3-4174-41c8-8673-924b6d3ef95f",
   "metadata": {},
   "outputs": [
    {
     "name": "stdout",
     "output_type": "stream",
     "text": [
      "True\n",
      "False\n"
     ]
    }
   ],
   "source": [
    "#Task 26: Check Balanced Parentheses\n",
    "def is_balanced(s):\n",
    "    stack = []\n",
    "    mapping = {')': '(', '}': '{', ']': '['}\n",
    "\n",
    "    for char in s:\n",
    "        if char in mapping:\n",
    "            top = stack.pop() if stack else '#'\n",
    "            if mapping[char] != top:\n",
    "                return False\n",
    "        else:\n",
    "            stack.append(char)\n",
    "\n",
    "    return not stack\n",
    "\n",
    "# Example\n",
    "print(is_balanced(\"{[()]}\"))  \n",
    "print(is_balanced(\"{[(])}\"))  \n"
   ]
  },
  {
   "cell_type": "code",
   "execution_count": 13,
   "id": "f8dcf927-ca0d-4245-9000-dba86127a6cd",
   "metadata": {},
   "outputs": [
    {
     "name": "stdout",
     "output_type": "stream",
     "text": [
      "Longest word: quick\n"
     ]
    }
   ],
   "source": [
    "#Task 27: Longest Word in a Sentence\n",
    "def longest_word(sentence):\n",
    "    words = sentence.split()\n",
    "    return max(words, key=len)\n",
    "\n",
    "# Example\n",
    "sentence = \"The quick brown fox jumps over the lazy dog\"\n",
    "print(f\"Longest word: {longest_word(sentence)}\")"
   ]
  },
  {
   "cell_type": "code",
   "execution_count": 15,
   "id": "299cca93-2beb-455f-b683-befbb6f089e1",
   "metadata": {},
   "outputs": [
    {
     "name": "stdout",
     "output_type": "stream",
     "text": [
      "Word count: 9\n"
     ]
    }
   ],
   "source": [
    "#Task 28: Count words in a Sentence\n",
    "def count_words(sentence):\n",
    "    return len(sentence.split())\n",
    "\n",
    "#Example \n",
    "sentence = \"The quick brown fox jumps over the lazy dog\"\n",
    "print(\"Word count:\", count_words(sentence))"
   ]
  },
  {
   "cell_type": "code",
   "execution_count": 17,
   "id": "9c14adfb-3066-4b68-a8f9-40d258951b7e",
   "metadata": {},
   "outputs": [
    {
     "name": "stdout",
     "output_type": "stream",
     "text": [
      "True\n",
      "True\n",
      "False\n"
     ]
    }
   ],
   "source": [
    "#Task 29: Check Pythagorean Triplet\n",
    "def is_pythagorean_triplet(a, b, c):\n",
    "    a, b, c = sorted([a, b, c])\n",
    "    return a**2 + b**2 == c**2\n",
    "\n",
    "# Example\n",
    "print(is_pythagorean_triplet(3, 4, 5))\n",
    "print(is_pythagorean_triplet(5, 12, 13))\n",
    "print(is_pythagorean_triplet(1, 2, 3))\n"
   ]
  },
  {
   "cell_type": "code",
   "execution_count": 21,
   "id": "688b850a-714d-4814-87c1-690ef30f39b3",
   "metadata": {},
   "outputs": [
    {
     "name": "stdout",
     "output_type": "stream",
     "text": [
      "Sorted array: [5, 8, 11, 12, 22, 25, 34, 44, 64, 90]\n"
     ]
    }
   ],
   "source": [
    "#Task 30: Bubble Sort\n",
    "def bubble_sort(arr):\n",
    "    n = len(arr)\n",
    "    for i in range(n):\n",
    "        for j in range(0, n-i-1):\n",
    "            if arr[j] > arr[j+1]:\n",
    "                arr[j], arr[j+1] = arr[j+1], arr[j]\n",
    "    return arr\n",
    "\n",
    "# Example\n",
    "arr = [5, 8, 44, 64, 34, 25, 12, 22, 11, 90]\n",
    "print(\"Sorted array:\", bubble_sort(arr))"
   ]
  },
  {
   "cell_type": "code",
   "execution_count": 26,
   "id": "8374b019-2e56-4b6e-87ec-8f55af016945",
   "metadata": {},
   "outputs": [
    {
     "name": "stdout",
     "output_type": "stream",
     "text": [
      "Index: 4\n",
      "Index: -1\n"
     ]
    }
   ],
   "source": [
    "#Task 31: Binary Search\n",
    "def binary_search(arr, target):\n",
    "    low, high = 0, len(arr) - 1\n",
    "    while low <= high:\n",
    "        mid = (low + high) // 2\n",
    "        if arr[mid] == target:\n",
    "            return mid\n",
    "        elif arr[mid] < target:\n",
    "            low = mid + 1\n",
    "        else:\n",
    "            high = mid - 1\n",
    "    return - 1\n",
    "\n",
    "# Example\n",
    "arr = [1, 2, 3, 4, 5, 6, 7, 8, 9]\n",
    "print(\"Index:\", binary_search(arr, 5))\n",
    "print(\"Index:\", binary_search(arr, 10))"
   ]
  },
  {
   "cell_type": "code",
   "execution_count": 28,
   "id": "53057cb0-fb63-4c44-a3c3-296455ed92de",
   "metadata": {},
   "outputs": [
    {
     "name": "stdout",
     "output_type": "stream",
     "text": [
      "Subarray indices: (2, 4)\n"
     ]
    }
   ],
   "source": [
    "#Task 32: Find Subarray with Given Sum\n",
    "def find_subarray(arr, S):\n",
    "    left, curr_sum = 0, 0\n",
    "    for right in range(len(arr)):\n",
    "        curr_sum += arr[right]\n",
    "        while curr_sum > S and left <= right:\n",
    "             curr_sum -= arr[left]\n",
    "             left += 1\n",
    "        if curr_sum == S:\n",
    "            return (left, right)\n",
    "    return -1\n",
    "\n",
    "# Example\n",
    "arr = [1, 4, 20, 3, 10, 5]\n",
    "S = 33\n",
    "print(\"Subarray indices:\", find_subarray(arr, S))\n",
    "\n"
   ]
  },
  {
   "cell_type": "code",
   "execution_count": 30,
   "id": "69b751af-bf97-475d-a151-a7d1643a56d9",
   "metadata": {},
   "outputs": [
    {
     "name": "stdout",
     "output_type": "stream",
     "text": [
      "Top IP addresses:\n",
      "[('192.168.1.1', 3), ('192.168.1.2', 1), ('192.168.1.3', 1)]\n"
     ]
    }
   ],
   "source": [
    "# Log Analysis System\n",
    "def analyze_logs(file_path):\n",
    "    ip_count = {}\n",
    "    with open(file_path, 'r') as file:\n",
    "        for line in file:\n",
    "            parts = line.split()\n",
    "            if len(parts) > 0:\n",
    "                ip = parts[0]\n",
    "                ip_count[ip] = ip_count.get(ip, 0) + 1\n",
    "    sorted_ips = sorted(ip_count.items(), key=lambda x: x[1], reverse=True)\n",
    "    return sorted_ips[:5] # Return top 5 most frequent IPs\n",
    "\n",
    "# Example\n",
    "# Assume 'server_logs.txt' is in the current directory\n",
    "# Create a small log file for demonstration\n",
    "with open(\"server_logs.txt\", \"w\") as file:\n",
    "    file.write(\"192.168.1.1 - - [12/Dec/2021] GET /index.html 200\\n\")\n",
    "    file.write(\"192.168.1.2 - - [12/Dec/2021] GET /index.html 200\\n\")\n",
    "    file.write(\"192.168.1.1 - - [12/Dec/2021] GET /index.html 404\\n\")\n",
    "    file.write(\"192.168.1.3 - - [12/Dec/2021] GET /index.html 200\\n\")\n",
    "    file.write(\"192.168.1.1 - - [12/Dec/2021] GET /index.html 200\\n\")\n",
    "\n",
    "# Analyze the Logs\n",
    "print(\"Top IP addresses:\")\n",
    "print(analyze_logs(\"server_logs.txt\"))\n",
    "               \n",
    "    \n",
    "    "
   ]
  },
  {
   "cell_type": "code",
   "execution_count": null,
   "id": "aeef523c-6e46-4783-a396-aae741d4ae2f",
   "metadata": {},
   "outputs": [],
   "source": []
  }
 ],
 "metadata": {
  "kernelspec": {
   "display_name": "Python [conda env:base] *",
   "language": "python",
   "name": "conda-base-py"
  },
  "language_info": {
   "codemirror_mode": {
    "name": "ipython",
    "version": 3
   },
   "file_extension": ".py",
   "mimetype": "text/x-python",
   "name": "python",
   "nbconvert_exporter": "python",
   "pygments_lexer": "ipython3",
   "version": "3.12.7"
  }
 },
 "nbformat": 4,
 "nbformat_minor": 5
}
